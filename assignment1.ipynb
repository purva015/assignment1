{
  "nbformat": 4,
  "nbformat_minor": 0,
  "metadata": {
    "colab": {
      "provenance": []
    },
    "kernelspec": {
      "name": "python3",
      "display_name": "Python 3"
    },
    "language_info": {
      "name": "python"
    }
  },
  "cells": [
    {
      "cell_type": "code",
      "execution_count": null,
      "metadata": {
        "id": "KqUAJ-ruk8Dh"
      },
      "outputs": [],
      "source": []
    },
    {
      "cell_type": "markdown",
      "source": [
        "Que 1] Explain the main components of client-server architecture and their functions.\n",
        "\n",
        "1)\tClient :- A client can be a software application or device that request for services  or resources from a server according to their need.\n",
        "\n",
        "2)\tServer :- A server can be device or software application which accept the request and have the capability to provides the services and the resources to the client.\n",
        "\n",
        "3)\tNetwork :- Network is a medium or environment which connect the client and server together  for making the request ,accept it and provide the services\n",
        "\n",
        "4) IP address :- it is the unique identifier assigned to the every device which is connect to the network or internet.\n",
        "\n",
        "5) internet :- network of a computer network.\n",
        "\n",
        "6) PORT :- number which is associated with the process. one PORT can run one process. and each process has its unique PORT.\n",
        "\n",
        "7) HTTP:- hypertext transfer protocol. which transmit the data over the internet. HTTPS is the more secure version of this.\n",
        "\n",
        "8) socket address :- which is combination of ip address and the PORT .  it needed for the client - server architechture for more facilitate.\n",
        "\n",
        "\n",
        "Que2] Discuss the various career paths available after completing a web development course\n",
        "\n",
        " frontend developer :- design and build the visual and interactive\n",
        "        websites and application\n",
        "\n",
        " Backend developer :- focuses on the server  side of web  application, including storage\n",
        "         And database.\n",
        "\n",
        " Web designer :- who is responsible for layout and visual appearance.\n",
        "        Other like :- game developer, web content manager, web master.\n",
        "\n",
        "\n",
        "  Que 3] Describe the role of a web browser's developer tools in web development.\n",
        "\n",
        " Browsers such as Chrome, Firefox, Edge, and many more are software used to visit various sites on the internet. They act as an interface between the user and the internet content.\n",
        "\n",
        "Due to the increase in the number of web apps, the browser has Development tools, which provides many tools for developers to test and debug the web app.\n",
        "\n",
        "Supporting various standards ,Making Live Changes ,Security and privacy improvement are the role of web browser .\n",
        "\n",
        "\n",
        "\n",
        "Ques 4] What are the advantages of using a Version Control System like Git in a development project?\n",
        "\n",
        "  it is a software tool that helps  developers for  managing the changes of their code and collaborate on projects effectively. It allows  to keep track of modifications, revert to previous versions, and work concurrently with others on the same codebase.\n",
        "\n",
        "\n",
        "\n",
        "Que 5] Compare and contrast a text editor and an IDE, highlighting their key features and uses.\n",
        "\n",
        " text editor is the basic like notepad .which is generally use to takes notes . where as the IDE which is a integrated development environment is a for software development, with features like an editor, debugger, compiler, and more.\n",
        "\n",
        "\n",
        "\n"
      ],
      "metadata": {
        "id": "qkqMfcdFlEcu"
      }
    }
  ]
}